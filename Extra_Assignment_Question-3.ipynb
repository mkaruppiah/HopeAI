{
 "cells": [
  {
   "cell_type": "code",
   "execution_count": 1,
   "metadata": {},
   "outputs": [
    {
     "name": "stdout",
     "output_type": "stream",
     "text": [
      "Correct\n"
     ]
    }
   ],
   "source": [
    "# print 'CORRECT' if i == 10\n",
    "i=10\n",
    "if(i==10):\n",
    "    print(\"Correct\")"
   ]
  },
  {
   "cell_type": "code",
   "execution_count": 29,
   "metadata": {},
   "outputs": [
    {
     "name": "stdout",
     "output_type": "stream",
     "text": [
      "enter the password HOPE@123\n",
      "Your password is correct\n"
     ]
    }
   ],
   "source": [
    "input_password=[input(\"enter the password \")]\n",
    "for password in input_password:\n",
    "# Check the password, using if and else\n",
    "    if(password==\"HOPE@123\"):\n",
    "        print(\"Your password is correct\")\n",
    "    else:\n",
    "        print(\"Your password is wrong\")  "
   ]
  },
  {
   "cell_type": "code",
   "execution_count": 31,
   "metadata": {},
   "outputs": [
    {
     "name": "stdout",
     "output_type": "stream",
     "text": [
      "enter the age 20\n",
      "Age is 20\n",
      "Adult\n"
     ]
    }
   ],
   "source": [
    "## Catagory the people by their age like children, adult, citizen, senior citizen...\n",
    "age=int(input(\"enter the age \"))\n",
    "print(\"Age is\",age)\n",
    "if (age<18):\n",
    "        print(\"Children\")\n",
    "elif(age<=30): \n",
    "        print(\"Adult\")\n",
    "elif(age<50):\n",
    "        print(\"citizen\")\n",
    "else:\n",
    "        print(\"senior citizen\")  "
   ]
  },
  {
   "cell_type": "code",
   "execution_count": 38,
   "metadata": {},
   "outputs": [
    {
     "name": "stdout",
     "output_type": "stream",
     "text": [
      "Enter the number10\n",
      "The Number is Positive\n"
     ]
    }
   ],
   "source": [
    "# Find whether given number is positive or negative \n",
    "number=int(input(\"Enter the number\"))\n",
    "if (number>=0):\n",
    "    print(\"The Number is Positive\")\n",
    "else:\n",
    "    print(\"The Number is Negative \")"
   ]
  },
  {
   "cell_type": "code",
   "execution_count": 35,
   "metadata": {},
   "outputs": [
    {
     "name": "stdout",
     "output_type": "stream",
     "text": [
      "Enter the number10\n",
      "The Number is divisible by 5\n"
     ]
    }
   ],
   "source": [
    "# Check whether the given number is divisible by 5\n",
    "number=int(input(\"Enter the number\"))\n",
    "if (number%5==0):\n",
    "    print(\"The Number is divisible by 5\")\n",
    "else:\n",
    "    print(\"The Number is not divisible by 5\")"
   ]
  },
  {
   "cell_type": "code",
   "execution_count": null,
   "metadata": {},
   "outputs": [],
   "source": []
  }
 ],
 "metadata": {
  "kernelspec": {
   "display_name": "Python 3",
   "language": "python",
   "name": "python3"
  },
  "language_info": {
   "codemirror_mode": {
    "name": "ipython",
    "version": 3
   },
   "file_extension": ".py",
   "mimetype": "text/x-python",
   "name": "python",
   "nbconvert_exporter": "python",
   "pygments_lexer": "ipython3",
   "version": "3.7.4"
  }
 },
 "nbformat": 4,
 "nbformat_minor": 2
}
